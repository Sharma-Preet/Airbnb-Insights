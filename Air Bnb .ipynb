{
 "cells": [
  {
   "cell_type": "code",
   "execution_count": 1,
   "id": "a834fe99",
   "metadata": {},
   "outputs": [],
   "source": [
    "import pandas as pd\n",
    "import seaborn as sns\n",
    "import matplotlib.pyplot as plt\n",
    "import warnings\n",
    "warnings.filterwarnings('ignore')"
   ]
  },
  {
   "cell_type": "markdown",
   "id": "38639176",
   "metadata": {},
   "source": [
    "# import/read dataset:"
   ]
  },
  {
   "cell_type": "code",
   "execution_count": 2,
   "id": "5a446643",
   "metadata": {
    "scrolled": true
   },
   "outputs": [
    {
     "data": {
      "text/html": [
       "<div>\n",
       "<style scoped>\n",
       "    .dataframe tbody tr th:only-of-type {\n",
       "        vertical-align: middle;\n",
       "    }\n",
       "\n",
       "    .dataframe tbody tr th {\n",
       "        vertical-align: top;\n",
       "    }\n",
       "\n",
       "    .dataframe thead th {\n",
       "        text-align: right;\n",
       "    }\n",
       "</style>\n",
       "<table border=\"1\" class=\"dataframe\">\n",
       "  <thead>\n",
       "    <tr style=\"text-align: right;\">\n",
       "      <th></th>\n",
       "      <th>id</th>\n",
       "      <th>NAME</th>\n",
       "      <th>host id</th>\n",
       "      <th>host_identity_verified</th>\n",
       "      <th>host name</th>\n",
       "      <th>neighbourhood group</th>\n",
       "      <th>neighbourhood</th>\n",
       "      <th>lat</th>\n",
       "      <th>long</th>\n",
       "      <th>country</th>\n",
       "      <th>...</th>\n",
       "      <th>service fee</th>\n",
       "      <th>minimum nights</th>\n",
       "      <th>number of reviews</th>\n",
       "      <th>last review</th>\n",
       "      <th>reviews per month</th>\n",
       "      <th>review rate number</th>\n",
       "      <th>calculated host listings count</th>\n",
       "      <th>availability 365</th>\n",
       "      <th>house_rules</th>\n",
       "      <th>license</th>\n",
       "    </tr>\n",
       "  </thead>\n",
       "  <tbody>\n",
       "    <tr>\n",
       "      <th>0</th>\n",
       "      <td>1001254</td>\n",
       "      <td>Clean &amp; quiet apt home by the park</td>\n",
       "      <td>80014485718</td>\n",
       "      <td>unconfirmed</td>\n",
       "      <td>Madaline</td>\n",
       "      <td>Brooklyn</td>\n",
       "      <td>Kensington</td>\n",
       "      <td>40.64749</td>\n",
       "      <td>-73.97237</td>\n",
       "      <td>United States</td>\n",
       "      <td>...</td>\n",
       "      <td>$193</td>\n",
       "      <td>10.0</td>\n",
       "      <td>9.0</td>\n",
       "      <td>10/19/2021</td>\n",
       "      <td>0.21</td>\n",
       "      <td>4.0</td>\n",
       "      <td>6.0</td>\n",
       "      <td>286.0</td>\n",
       "      <td>Clean up and treat the home the way you'd like...</td>\n",
       "      <td>NaN</td>\n",
       "    </tr>\n",
       "    <tr>\n",
       "      <th>1</th>\n",
       "      <td>1002102</td>\n",
       "      <td>Skylit Midtown Castle</td>\n",
       "      <td>52335172823</td>\n",
       "      <td>verified</td>\n",
       "      <td>Jenna</td>\n",
       "      <td>Manhattan</td>\n",
       "      <td>Midtown</td>\n",
       "      <td>40.75362</td>\n",
       "      <td>-73.98377</td>\n",
       "      <td>United States</td>\n",
       "      <td>...</td>\n",
       "      <td>$28</td>\n",
       "      <td>30.0</td>\n",
       "      <td>45.0</td>\n",
       "      <td>5/21/2022</td>\n",
       "      <td>0.38</td>\n",
       "      <td>4.0</td>\n",
       "      <td>2.0</td>\n",
       "      <td>228.0</td>\n",
       "      <td>Pet friendly but please confirm with me if the...</td>\n",
       "      <td>NaN</td>\n",
       "    </tr>\n",
       "    <tr>\n",
       "      <th>2</th>\n",
       "      <td>1002403</td>\n",
       "      <td>THE VILLAGE OF HARLEM....NEW YORK !</td>\n",
       "      <td>78829239556</td>\n",
       "      <td>NaN</td>\n",
       "      <td>Elise</td>\n",
       "      <td>Manhattan</td>\n",
       "      <td>Harlem</td>\n",
       "      <td>40.80902</td>\n",
       "      <td>-73.94190</td>\n",
       "      <td>United States</td>\n",
       "      <td>...</td>\n",
       "      <td>$124</td>\n",
       "      <td>3.0</td>\n",
       "      <td>0.0</td>\n",
       "      <td>NaN</td>\n",
       "      <td>NaN</td>\n",
       "      <td>5.0</td>\n",
       "      <td>1.0</td>\n",
       "      <td>352.0</td>\n",
       "      <td>I encourage you to use my kitchen, cooking and...</td>\n",
       "      <td>NaN</td>\n",
       "    </tr>\n",
       "    <tr>\n",
       "      <th>3</th>\n",
       "      <td>1002755</td>\n",
       "      <td>NaN</td>\n",
       "      <td>85098326012</td>\n",
       "      <td>unconfirmed</td>\n",
       "      <td>Garry</td>\n",
       "      <td>Brooklyn</td>\n",
       "      <td>Clinton Hill</td>\n",
       "      <td>40.68514</td>\n",
       "      <td>-73.95976</td>\n",
       "      <td>United States</td>\n",
       "      <td>...</td>\n",
       "      <td>$74</td>\n",
       "      <td>30.0</td>\n",
       "      <td>270.0</td>\n",
       "      <td>07-05-2019</td>\n",
       "      <td>4.64</td>\n",
       "      <td>4.0</td>\n",
       "      <td>1.0</td>\n",
       "      <td>322.0</td>\n",
       "      <td>NaN</td>\n",
       "      <td>NaN</td>\n",
       "    </tr>\n",
       "    <tr>\n",
       "      <th>4</th>\n",
       "      <td>1003689</td>\n",
       "      <td>Entire Apt: Spacious Studio/Loft by central park</td>\n",
       "      <td>92037596077</td>\n",
       "      <td>verified</td>\n",
       "      <td>Lyndon</td>\n",
       "      <td>Manhattan</td>\n",
       "      <td>East Harlem</td>\n",
       "      <td>40.79851</td>\n",
       "      <td>-73.94399</td>\n",
       "      <td>United States</td>\n",
       "      <td>...</td>\n",
       "      <td>$41</td>\n",
       "      <td>10.0</td>\n",
       "      <td>9.0</td>\n",
       "      <td>11/19/2018</td>\n",
       "      <td>0.10</td>\n",
       "      <td>3.0</td>\n",
       "      <td>1.0</td>\n",
       "      <td>289.0</td>\n",
       "      <td>Please no smoking in the house, porch or on th...</td>\n",
       "      <td>NaN</td>\n",
       "    </tr>\n",
       "  </tbody>\n",
       "</table>\n",
       "<p>5 rows × 26 columns</p>\n",
       "</div>"
      ],
      "text/plain": [
       "        id                                              NAME      host id  \\\n",
       "0  1001254                Clean & quiet apt home by the park  80014485718   \n",
       "1  1002102                             Skylit Midtown Castle  52335172823   \n",
       "2  1002403               THE VILLAGE OF HARLEM....NEW YORK !  78829239556   \n",
       "3  1002755                                               NaN  85098326012   \n",
       "4  1003689  Entire Apt: Spacious Studio/Loft by central park  92037596077   \n",
       "\n",
       "  host_identity_verified host name neighbourhood group neighbourhood  \\\n",
       "0            unconfirmed  Madaline            Brooklyn    Kensington   \n",
       "1               verified     Jenna           Manhattan       Midtown   \n",
       "2                    NaN     Elise           Manhattan        Harlem   \n",
       "3            unconfirmed     Garry            Brooklyn  Clinton Hill   \n",
       "4               verified    Lyndon           Manhattan   East Harlem   \n",
       "\n",
       "        lat      long        country  ... service fee minimum nights  \\\n",
       "0  40.64749 -73.97237  United States  ...       $193            10.0   \n",
       "1  40.75362 -73.98377  United States  ...        $28            30.0   \n",
       "2  40.80902 -73.94190  United States  ...       $124             3.0   \n",
       "3  40.68514 -73.95976  United States  ...        $74            30.0   \n",
       "4  40.79851 -73.94399  United States  ...        $41            10.0   \n",
       "\n",
       "  number of reviews last review  reviews per month review rate number  \\\n",
       "0               9.0  10/19/2021               0.21                4.0   \n",
       "1              45.0   5/21/2022               0.38                4.0   \n",
       "2               0.0         NaN                NaN                5.0   \n",
       "3             270.0  07-05-2019               4.64                4.0   \n",
       "4               9.0  11/19/2018               0.10                3.0   \n",
       "\n",
       "  calculated host listings count  availability 365  \\\n",
       "0                            6.0             286.0   \n",
       "1                            2.0             228.0   \n",
       "2                            1.0             352.0   \n",
       "3                            1.0             322.0   \n",
       "4                            1.0             289.0   \n",
       "\n",
       "                                         house_rules license  \n",
       "0  Clean up and treat the home the way you'd like...     NaN  \n",
       "1  Pet friendly but please confirm with me if the...     NaN  \n",
       "2  I encourage you to use my kitchen, cooking and...     NaN  \n",
       "3                                                NaN     NaN  \n",
       "4  Please no smoking in the house, porch or on th...     NaN  \n",
       "\n",
       "[5 rows x 26 columns]"
      ]
     },
     "execution_count": 2,
     "metadata": {},
     "output_type": "execute_result"
    }
   ],
   "source": [
    "data1=pd.read_csv(r\"C:\\Users\\81684\\Documents\\Python\\Airbnb_Open_Data.csv\")\n",
    "data1.head()"
   ]
  },
  {
   "cell_type": "code",
   "execution_count": 3,
   "id": "2f4c87ca",
   "metadata": {
    "scrolled": false
   },
   "outputs": [
    {
     "name": "stdout",
     "output_type": "stream",
     "text": [
      "<class 'pandas.core.frame.DataFrame'>\n",
      "RangeIndex: 102599 entries, 0 to 102598\n",
      "Data columns (total 26 columns):\n",
      " #   Column                          Non-Null Count   Dtype  \n",
      "---  ------                          --------------   -----  \n",
      " 0   id                              102599 non-null  int64  \n",
      " 1   NAME                            102349 non-null  object \n",
      " 2   host id                         102599 non-null  int64  \n",
      " 3   host_identity_verified          102310 non-null  object \n",
      " 4   host name                       102193 non-null  object \n",
      " 5   neighbourhood group             102570 non-null  object \n",
      " 6   neighbourhood                   102583 non-null  object \n",
      " 7   lat                             102591 non-null  float64\n",
      " 8   long                            102591 non-null  float64\n",
      " 9   country                         102067 non-null  object \n",
      " 10  country code                    102468 non-null  object \n",
      " 11  instant_bookable                102494 non-null  object \n",
      " 12  cancellation_policy             102523 non-null  object \n",
      " 13  room type                       102599 non-null  object \n",
      " 14  Construction year               102385 non-null  float64\n",
      " 15  price                           102352 non-null  object \n",
      " 16  service fee                     102326 non-null  object \n",
      " 17  minimum nights                  102190 non-null  float64\n",
      " 18  number of reviews               102416 non-null  float64\n",
      " 19  last review                     86706 non-null   object \n",
      " 20  reviews per month               86720 non-null   float64\n",
      " 21  review rate number              102273 non-null  float64\n",
      " 22  calculated host listings count  102280 non-null  float64\n",
      " 23  availability 365                102151 non-null  float64\n",
      " 24  house_rules                     50468 non-null   object \n",
      " 25  license                         2 non-null       object \n",
      "dtypes: float64(9), int64(2), object(15)\n",
      "memory usage: 20.4+ MB\n"
     ]
    }
   ],
   "source": [
    "data1.info()"
   ]
  },
  {
   "cell_type": "code",
   "execution_count": 4,
   "id": "0ab05f3d",
   "metadata": {},
   "outputs": [
    {
     "data": {
      "text/plain": [
       "Index(['id', 'NAME', 'host id', 'host_identity_verified', 'host name',\n",
       "       'neighbourhood group', 'neighbourhood', 'lat', 'long', 'country',\n",
       "       'country code', 'instant_bookable', 'cancellation_policy', 'room type',\n",
       "       'Construction year', 'price', 'service fee', 'minimum nights',\n",
       "       'number of reviews', 'last review', 'reviews per month',\n",
       "       'review rate number', 'calculated host listings count',\n",
       "       'availability 365', 'house_rules', 'license'],\n",
       "      dtype='object')"
      ]
     },
     "execution_count": 4,
     "metadata": {},
     "output_type": "execute_result"
    }
   ],
   "source": [
    "data1.columns"
   ]
  },
  {
   "cell_type": "markdown",
   "id": "0dcb6a30",
   "metadata": {},
   "source": [
    "# DATA CLEANING :"
   ]
  },
  {
   "cell_type": "markdown",
   "id": "a91706fd",
   "metadata": {},
   "source": [
    "# Null Values:"
   ]
  },
  {
   "cell_type": "code",
   "execution_count": 5,
   "id": "86a3d3f2",
   "metadata": {
    "scrolled": false
   },
   "outputs": [
    {
     "data": {
      "text/plain": [
       "id                                     0\n",
       "NAME                                 250\n",
       "host id                                0\n",
       "host_identity_verified               289\n",
       "host name                            406\n",
       "neighbourhood group                   29\n",
       "neighbourhood                         16\n",
       "lat                                    8\n",
       "long                                   8\n",
       "country                              532\n",
       "country code                         131\n",
       "instant_bookable                     105\n",
       "cancellation_policy                   76\n",
       "room type                              0\n",
       "Construction year                    214\n",
       "price                                247\n",
       "service fee                          273\n",
       "minimum nights                       409\n",
       "number of reviews                    183\n",
       "last review                        15893\n",
       "reviews per month                  15879\n",
       "review rate number                   326\n",
       "calculated host listings count       319\n",
       "availability 365                     448\n",
       "house_rules                        52131\n",
       "license                           102597\n",
       "dtype: int64"
      ]
     },
     "execution_count": 5,
     "metadata": {},
     "output_type": "execute_result"
    }
   ],
   "source": [
    "data1.isnull().sum()"
   ]
  },
  {
   "cell_type": "markdown",
   "id": "31952b53",
   "metadata": {},
   "source": [
    "# Remove Duplicate Values:"
   ]
  },
  {
   "cell_type": "code",
   "execution_count": 6,
   "id": "2246f533",
   "metadata": {},
   "outputs": [],
   "source": [
    "data1=data1.drop_duplicates()"
   ]
  },
  {
   "cell_type": "markdown",
   "id": "a5e36993",
   "metadata": {},
   "source": [
    "# Remove Columns:"
   ]
  },
  {
   "cell_type": "code",
   "execution_count": 7,
   "id": "81cf428f",
   "metadata": {},
   "outputs": [],
   "source": [
    "data1.drop(['country','license','house_rules','country code'],axis=1,inplace=True)"
   ]
  },
  {
   "cell_type": "markdown",
   "id": "073a4af0",
   "metadata": {},
   "source": [
    "# Data Types:"
   ]
  },
  {
   "cell_type": "code",
   "execution_count": 8,
   "id": "3051436b",
   "metadata": {
    "scrolled": true
   },
   "outputs": [
    {
     "data": {
      "text/plain": [
       "id                                  int64\n",
       "NAME                               object\n",
       "host id                             int64\n",
       "host_identity_verified             object\n",
       "host name                          object\n",
       "neighbourhood group                object\n",
       "neighbourhood                      object\n",
       "lat                               float64\n",
       "long                              float64\n",
       "instant_bookable                   object\n",
       "cancellation_policy                object\n",
       "room type                          object\n",
       "Construction year                 float64\n",
       "price                              object\n",
       "service fee                        object\n",
       "minimum nights                    float64\n",
       "number of reviews                 float64\n",
       "last review                        object\n",
       "reviews per month                 float64\n",
       "review rate number                float64\n",
       "calculated host listings count    float64\n",
       "availability 365                  float64\n",
       "dtype: object"
      ]
     },
     "execution_count": 8,
     "metadata": {},
     "output_type": "execute_result"
    }
   ],
   "source": [
    "data1.dtypes"
   ]
  },
  {
   "cell_type": "code",
   "execution_count": 9,
   "id": "204bb4c1",
   "metadata": {
    "scrolled": false
   },
   "outputs": [],
   "source": [
    "data1['last review']=pd.to_datetime(data1['last review'],format='mixed')\n",
    "# change data type of last review, object to datetime, if the date format is mixed, then we use format parameter."
   ]
  },
  {
   "cell_type": "markdown",
   "id": "ab55cfdc",
   "metadata": {},
   "source": [
    " "
   ]
  },
  {
   "cell_type": "code",
   "execution_count": 10,
   "id": "6e11833a",
   "metadata": {},
   "outputs": [],
   "source": [
    "data1['neighbourhood group']=data1['neighbourhood group'].str.replace('brookln','Brooklyn')"
   ]
  },
  {
   "cell_type": "code",
   "execution_count": 11,
   "id": "2f9131cd",
   "metadata": {},
   "outputs": [],
   "source": [
    "data1['price']=data1['price'].str.replace('$','')"
   ]
  },
  {
   "cell_type": "code",
   "execution_count": 12,
   "id": "bd804655",
   "metadata": {},
   "outputs": [],
   "source": [
    "data1['price']=data1['price'].str.replace(',','')"
   ]
  },
  {
   "cell_type": "code",
   "execution_count": 13,
   "id": "a8a7e816",
   "metadata": {},
   "outputs": [],
   "source": [
    "data1['service fee']=data1['service fee'].str.replace('$','')"
   ]
  },
  {
   "cell_type": "code",
   "execution_count": 14,
   "id": "8636d288",
   "metadata": {},
   "outputs": [],
   "source": [
    "data1['service fee']=data1['service fee'].str.replace('$','')"
   ]
  },
  {
   "cell_type": "markdown",
   "id": "75a5f92d",
   "metadata": {},
   "source": [
    "# Drop Null Values:"
   ]
  },
  {
   "cell_type": "code",
   "execution_count": 15,
   "id": "1246735f",
   "metadata": {
    "scrolled": true
   },
   "outputs": [],
   "source": [
    "data=data1.dropna(subset=['id', 'NAME', 'host id', 'host_identity_verified', 'host name',\n",
    "       'neighbourhood group', 'neighbourhood', 'lat', 'long',\n",
    "       'instant_bookable', 'cancellation_policy', 'room type',\n",
    "       'Construction year', 'price', 'service fee', 'minimum nights',\n",
    "       'number of reviews', 'last review', 'reviews per month',\n",
    "       'review rate number', 'calculated host listings count',\n",
    "       'availability 365'])"
   ]
  },
  {
   "cell_type": "markdown",
   "id": "ac1b8372",
   "metadata": {},
   "source": [
    "# Clean Data:"
   ]
  },
  {
   "cell_type": "code",
   "execution_count": 16,
   "id": "4485c194",
   "metadata": {},
   "outputs": [],
   "source": [
    "data=data.reset_index(drop=True)\n"
   ]
  },
  {
   "cell_type": "code",
   "execution_count": 17,
   "id": "0be435ae",
   "metadata": {
    "scrolled": true
   },
   "outputs": [
    {
     "data": {
      "text/html": [
       "<div>\n",
       "<style scoped>\n",
       "    .dataframe tbody tr th:only-of-type {\n",
       "        vertical-align: middle;\n",
       "    }\n",
       "\n",
       "    .dataframe tbody tr th {\n",
       "        vertical-align: top;\n",
       "    }\n",
       "\n",
       "    .dataframe thead th {\n",
       "        text-align: right;\n",
       "    }\n",
       "</style>\n",
       "<table border=\"1\" class=\"dataframe\">\n",
       "  <thead>\n",
       "    <tr style=\"text-align: right;\">\n",
       "      <th></th>\n",
       "      <th>id</th>\n",
       "      <th>NAME</th>\n",
       "      <th>host id</th>\n",
       "      <th>host_identity_verified</th>\n",
       "      <th>host name</th>\n",
       "      <th>neighbourhood group</th>\n",
       "      <th>neighbourhood</th>\n",
       "      <th>lat</th>\n",
       "      <th>long</th>\n",
       "      <th>instant_bookable</th>\n",
       "      <th>...</th>\n",
       "      <th>Construction year</th>\n",
       "      <th>price</th>\n",
       "      <th>service fee</th>\n",
       "      <th>minimum nights</th>\n",
       "      <th>number of reviews</th>\n",
       "      <th>last review</th>\n",
       "      <th>reviews per month</th>\n",
       "      <th>review rate number</th>\n",
       "      <th>calculated host listings count</th>\n",
       "      <th>availability 365</th>\n",
       "    </tr>\n",
       "  </thead>\n",
       "  <tbody>\n",
       "    <tr>\n",
       "      <th>0</th>\n",
       "      <td>1001254</td>\n",
       "      <td>Clean &amp; quiet apt home by the park</td>\n",
       "      <td>80014485718</td>\n",
       "      <td>unconfirmed</td>\n",
       "      <td>Madaline</td>\n",
       "      <td>Brooklyn</td>\n",
       "      <td>Kensington</td>\n",
       "      <td>40.64749</td>\n",
       "      <td>-73.97237</td>\n",
       "      <td>False</td>\n",
       "      <td>...</td>\n",
       "      <td>2020.0</td>\n",
       "      <td>966</td>\n",
       "      <td>193</td>\n",
       "      <td>10.0</td>\n",
       "      <td>9.0</td>\n",
       "      <td>2021-10-19</td>\n",
       "      <td>0.21</td>\n",
       "      <td>4.0</td>\n",
       "      <td>6.0</td>\n",
       "      <td>286.0</td>\n",
       "    </tr>\n",
       "    <tr>\n",
       "      <th>1</th>\n",
       "      <td>1002102</td>\n",
       "      <td>Skylit Midtown Castle</td>\n",
       "      <td>52335172823</td>\n",
       "      <td>verified</td>\n",
       "      <td>Jenna</td>\n",
       "      <td>Manhattan</td>\n",
       "      <td>Midtown</td>\n",
       "      <td>40.75362</td>\n",
       "      <td>-73.98377</td>\n",
       "      <td>False</td>\n",
       "      <td>...</td>\n",
       "      <td>2007.0</td>\n",
       "      <td>142</td>\n",
       "      <td>28</td>\n",
       "      <td>30.0</td>\n",
       "      <td>45.0</td>\n",
       "      <td>2022-05-21</td>\n",
       "      <td>0.38</td>\n",
       "      <td>4.0</td>\n",
       "      <td>2.0</td>\n",
       "      <td>228.0</td>\n",
       "    </tr>\n",
       "    <tr>\n",
       "      <th>2</th>\n",
       "      <td>1003689</td>\n",
       "      <td>Entire Apt: Spacious Studio/Loft by central park</td>\n",
       "      <td>92037596077</td>\n",
       "      <td>verified</td>\n",
       "      <td>Lyndon</td>\n",
       "      <td>Manhattan</td>\n",
       "      <td>East Harlem</td>\n",
       "      <td>40.79851</td>\n",
       "      <td>-73.94399</td>\n",
       "      <td>False</td>\n",
       "      <td>...</td>\n",
       "      <td>2009.0</td>\n",
       "      <td>204</td>\n",
       "      <td>41</td>\n",
       "      <td>10.0</td>\n",
       "      <td>9.0</td>\n",
       "      <td>2018-11-19</td>\n",
       "      <td>0.10</td>\n",
       "      <td>3.0</td>\n",
       "      <td>1.0</td>\n",
       "      <td>289.0</td>\n",
       "    </tr>\n",
       "    <tr>\n",
       "      <th>3</th>\n",
       "      <td>1004098</td>\n",
       "      <td>Large Cozy 1 BR Apartment In Midtown East</td>\n",
       "      <td>45498551794</td>\n",
       "      <td>verified</td>\n",
       "      <td>Michelle</td>\n",
       "      <td>Manhattan</td>\n",
       "      <td>Murray Hill</td>\n",
       "      <td>40.74767</td>\n",
       "      <td>-73.97500</td>\n",
       "      <td>True</td>\n",
       "      <td>...</td>\n",
       "      <td>2013.0</td>\n",
       "      <td>577</td>\n",
       "      <td>115</td>\n",
       "      <td>3.0</td>\n",
       "      <td>74.0</td>\n",
       "      <td>2019-06-22</td>\n",
       "      <td>0.59</td>\n",
       "      <td>3.0</td>\n",
       "      <td>1.0</td>\n",
       "      <td>374.0</td>\n",
       "    </tr>\n",
       "    <tr>\n",
       "      <th>4</th>\n",
       "      <td>1005202</td>\n",
       "      <td>BlissArtsSpace!</td>\n",
       "      <td>90821839709</td>\n",
       "      <td>unconfirmed</td>\n",
       "      <td>Emma</td>\n",
       "      <td>Brooklyn</td>\n",
       "      <td>Bedford-Stuyvesant</td>\n",
       "      <td>40.68688</td>\n",
       "      <td>-73.95596</td>\n",
       "      <td>False</td>\n",
       "      <td>...</td>\n",
       "      <td>2009.0</td>\n",
       "      <td>1060</td>\n",
       "      <td>212</td>\n",
       "      <td>45.0</td>\n",
       "      <td>49.0</td>\n",
       "      <td>2017-10-05</td>\n",
       "      <td>0.40</td>\n",
       "      <td>5.0</td>\n",
       "      <td>1.0</td>\n",
       "      <td>219.0</td>\n",
       "    </tr>\n",
       "    <tr>\n",
       "      <th>...</th>\n",
       "      <td>...</td>\n",
       "      <td>...</td>\n",
       "      <td>...</td>\n",
       "      <td>...</td>\n",
       "      <td>...</td>\n",
       "      <td>...</td>\n",
       "      <td>...</td>\n",
       "      <td>...</td>\n",
       "      <td>...</td>\n",
       "      <td>...</td>\n",
       "      <td>...</td>\n",
       "      <td>...</td>\n",
       "      <td>...</td>\n",
       "      <td>...</td>\n",
       "      <td>...</td>\n",
       "      <td>...</td>\n",
       "      <td>...</td>\n",
       "      <td>...</td>\n",
       "      <td>...</td>\n",
       "      <td>...</td>\n",
       "      <td>...</td>\n",
       "    </tr>\n",
       "    <tr>\n",
       "      <th>83842</th>\n",
       "      <td>57351953</td>\n",
       "      <td>Cozy room in a 2B with backyard access</td>\n",
       "      <td>5155155913</td>\n",
       "      <td>unconfirmed</td>\n",
       "      <td>Cristina</td>\n",
       "      <td>Queens</td>\n",
       "      <td>Astoria</td>\n",
       "      <td>40.76987</td>\n",
       "      <td>-73.92679</td>\n",
       "      <td>False</td>\n",
       "      <td>...</td>\n",
       "      <td>2018.0</td>\n",
       "      <td>822</td>\n",
       "      <td>164</td>\n",
       "      <td>1.0</td>\n",
       "      <td>9.0</td>\n",
       "      <td>2019-04-25</td>\n",
       "      <td>0.91</td>\n",
       "      <td>3.0</td>\n",
       "      <td>1.0</td>\n",
       "      <td>0.0</td>\n",
       "    </tr>\n",
       "    <tr>\n",
       "      <th>83843</th>\n",
       "      <td>57352505</td>\n",
       "      <td>An East Williamsburg Delight</td>\n",
       "      <td>71564706996</td>\n",
       "      <td>verified</td>\n",
       "      <td>Petra</td>\n",
       "      <td>Brooklyn</td>\n",
       "      <td>Bedford-Stuyvesant</td>\n",
       "      <td>40.68335</td>\n",
       "      <td>-73.91222</td>\n",
       "      <td>True</td>\n",
       "      <td>...</td>\n",
       "      <td>2015.0</td>\n",
       "      <td>455</td>\n",
       "      <td>91</td>\n",
       "      <td>4.0</td>\n",
       "      <td>36.0</td>\n",
       "      <td>2018-06-27</td>\n",
       "      <td>1.28</td>\n",
       "      <td>1.0</td>\n",
       "      <td>1.0</td>\n",
       "      <td>0.0</td>\n",
       "    </tr>\n",
       "    <tr>\n",
       "      <th>83844</th>\n",
       "      <td>57353057</td>\n",
       "      <td>Cozy bedroom in williamsburg</td>\n",
       "      <td>83101851929</td>\n",
       "      <td>verified</td>\n",
       "      <td>Russell</td>\n",
       "      <td>Brooklyn</td>\n",
       "      <td>Williamsburg</td>\n",
       "      <td>40.70870</td>\n",
       "      <td>-73.96710</td>\n",
       "      <td>True</td>\n",
       "      <td>...</td>\n",
       "      <td>2020.0</td>\n",
       "      <td>1078</td>\n",
       "      <td>216</td>\n",
       "      <td>1.0</td>\n",
       "      <td>58.0</td>\n",
       "      <td>2019-06-10</td>\n",
       "      <td>2.08</td>\n",
       "      <td>5.0</td>\n",
       "      <td>2.0</td>\n",
       "      <td>120.0</td>\n",
       "    </tr>\n",
       "    <tr>\n",
       "      <th>83845</th>\n",
       "      <td>57353610</td>\n",
       "      <td>Spacious Room w/ 2 Bed</td>\n",
       "      <td>69037598918</td>\n",
       "      <td>unconfirmed</td>\n",
       "      <td>Christine</td>\n",
       "      <td>Queens</td>\n",
       "      <td>Bayside</td>\n",
       "      <td>40.75047</td>\n",
       "      <td>-73.75349</td>\n",
       "      <td>False</td>\n",
       "      <td>...</td>\n",
       "      <td>2007.0</td>\n",
       "      <td>103</td>\n",
       "      <td>21</td>\n",
       "      <td>7.0</td>\n",
       "      <td>40.0</td>\n",
       "      <td>2019-06-23</td>\n",
       "      <td>1.51</td>\n",
       "      <td>1.0</td>\n",
       "      <td>5.0</td>\n",
       "      <td>148.0</td>\n",
       "    </tr>\n",
       "    <tr>\n",
       "      <th>83846</th>\n",
       "      <td>57358028</td>\n",
       "      <td>Room in Queens, NY, near LGA.</td>\n",
       "      <td>56457739998</td>\n",
       "      <td>verified</td>\n",
       "      <td>Sonia</td>\n",
       "      <td>Queens</td>\n",
       "      <td>East Elmhurst</td>\n",
       "      <td>40.76245</td>\n",
       "      <td>-73.87938</td>\n",
       "      <td>True</td>\n",
       "      <td>...</td>\n",
       "      <td>2022.0</td>\n",
       "      <td>982</td>\n",
       "      <td>196</td>\n",
       "      <td>1.0</td>\n",
       "      <td>239.0</td>\n",
       "      <td>2019-06-29</td>\n",
       "      <td>8.58</td>\n",
       "      <td>2.0</td>\n",
       "      <td>2.0</td>\n",
       "      <td>361.0</td>\n",
       "    </tr>\n",
       "  </tbody>\n",
       "</table>\n",
       "<p>83847 rows × 22 columns</p>\n",
       "</div>"
      ],
      "text/plain": [
       "             id                                              NAME  \\\n",
       "0       1001254                Clean & quiet apt home by the park   \n",
       "1       1002102                             Skylit Midtown Castle   \n",
       "2       1003689  Entire Apt: Spacious Studio/Loft by central park   \n",
       "3       1004098         Large Cozy 1 BR Apartment In Midtown East   \n",
       "4       1005202                                   BlissArtsSpace!   \n",
       "...         ...                                               ...   \n",
       "83842  57351953            Cozy room in a 2B with backyard access   \n",
       "83843  57352505                      An East Williamsburg Delight   \n",
       "83844  57353057                      Cozy bedroom in williamsburg   \n",
       "83845  57353610                            Spacious Room w/ 2 Bed   \n",
       "83846  57358028                     Room in Queens, NY, near LGA.   \n",
       "\n",
       "           host id host_identity_verified  host name neighbourhood group  \\\n",
       "0      80014485718            unconfirmed   Madaline            Brooklyn   \n",
       "1      52335172823               verified      Jenna           Manhattan   \n",
       "2      92037596077               verified     Lyndon           Manhattan   \n",
       "3      45498551794               verified   Michelle           Manhattan   \n",
       "4      90821839709            unconfirmed       Emma            Brooklyn   \n",
       "...            ...                    ...        ...                 ...   \n",
       "83842   5155155913            unconfirmed   Cristina              Queens   \n",
       "83843  71564706996               verified      Petra            Brooklyn   \n",
       "83844  83101851929               verified    Russell            Brooklyn   \n",
       "83845  69037598918            unconfirmed  Christine              Queens   \n",
       "83846  56457739998               verified      Sonia              Queens   \n",
       "\n",
       "            neighbourhood       lat      long instant_bookable  ...  \\\n",
       "0              Kensington  40.64749 -73.97237            False  ...   \n",
       "1                 Midtown  40.75362 -73.98377            False  ...   \n",
       "2             East Harlem  40.79851 -73.94399            False  ...   \n",
       "3             Murray Hill  40.74767 -73.97500             True  ...   \n",
       "4      Bedford-Stuyvesant  40.68688 -73.95596            False  ...   \n",
       "...                   ...       ...       ...              ...  ...   \n",
       "83842             Astoria  40.76987 -73.92679            False  ...   \n",
       "83843  Bedford-Stuyvesant  40.68335 -73.91222             True  ...   \n",
       "83844        Williamsburg  40.70870 -73.96710             True  ...   \n",
       "83845             Bayside  40.75047 -73.75349            False  ...   \n",
       "83846       East Elmhurst  40.76245 -73.87938             True  ...   \n",
       "\n",
       "      Construction year  price  service fee minimum nights number of reviews  \\\n",
       "0                2020.0   966          193            10.0               9.0   \n",
       "1                2007.0   142           28            30.0              45.0   \n",
       "2                2009.0   204           41            10.0               9.0   \n",
       "3                2013.0   577          115             3.0              74.0   \n",
       "4                2009.0  1060          212            45.0              49.0   \n",
       "...                 ...    ...          ...            ...               ...   \n",
       "83842            2018.0   822          164             1.0               9.0   \n",
       "83843            2015.0   455           91             4.0              36.0   \n",
       "83844            2020.0  1078          216             1.0              58.0   \n",
       "83845            2007.0   103           21             7.0              40.0   \n",
       "83846            2022.0   982          196             1.0             239.0   \n",
       "\n",
       "       last review  reviews per month review rate number  \\\n",
       "0       2021-10-19               0.21                4.0   \n",
       "1       2022-05-21               0.38                4.0   \n",
       "2       2018-11-19               0.10                3.0   \n",
       "3       2019-06-22               0.59                3.0   \n",
       "4       2017-10-05               0.40                5.0   \n",
       "...            ...                ...                ...   \n",
       "83842   2019-04-25               0.91                3.0   \n",
       "83843   2018-06-27               1.28                1.0   \n",
       "83844   2019-06-10               2.08                5.0   \n",
       "83845   2019-06-23               1.51                1.0   \n",
       "83846   2019-06-29               8.58                2.0   \n",
       "\n",
       "       calculated host listings count  availability 365  \n",
       "0                                 6.0             286.0  \n",
       "1                                 2.0             228.0  \n",
       "2                                 1.0             289.0  \n",
       "3                                 1.0             374.0  \n",
       "4                                 1.0             219.0  \n",
       "...                               ...               ...  \n",
       "83842                             1.0               0.0  \n",
       "83843                             1.0               0.0  \n",
       "83844                             2.0             120.0  \n",
       "83845                             5.0             148.0  \n",
       "83846                             2.0             361.0  \n",
       "\n",
       "[83847 rows x 22 columns]"
      ]
     },
     "execution_count": 17,
     "metadata": {},
     "output_type": "execute_result"
    }
   ],
   "source": [
    "data"
   ]
  },
  {
   "cell_type": "code",
   "execution_count": 18,
   "id": "7f70f253",
   "metadata": {},
   "outputs": [
    {
     "data": {
      "text/html": [
       "<div>\n",
       "<style scoped>\n",
       "    .dataframe tbody tr th:only-of-type {\n",
       "        vertical-align: middle;\n",
       "    }\n",
       "\n",
       "    .dataframe tbody tr th {\n",
       "        vertical-align: top;\n",
       "    }\n",
       "\n",
       "    .dataframe thead th {\n",
       "        text-align: right;\n",
       "    }\n",
       "</style>\n",
       "<table border=\"1\" class=\"dataframe\">\n",
       "  <thead>\n",
       "    <tr style=\"text-align: right;\">\n",
       "      <th></th>\n",
       "      <th>id</th>\n",
       "      <th>host id</th>\n",
       "      <th>lat</th>\n",
       "      <th>long</th>\n",
       "      <th>Construction year</th>\n",
       "      <th>minimum nights</th>\n",
       "      <th>number of reviews</th>\n",
       "      <th>last review</th>\n",
       "      <th>reviews per month</th>\n",
       "      <th>review rate number</th>\n",
       "      <th>calculated host listings count</th>\n",
       "      <th>availability 365</th>\n",
       "    </tr>\n",
       "  </thead>\n",
       "  <tbody>\n",
       "    <tr>\n",
       "      <th>count</th>\n",
       "      <td>8.384700e+04</td>\n",
       "      <td>8.384700e+04</td>\n",
       "      <td>83847.000000</td>\n",
       "      <td>83847.000000</td>\n",
       "      <td>83847.000000</td>\n",
       "      <td>83847.000000</td>\n",
       "      <td>83847.000000</td>\n",
       "      <td>83847</td>\n",
       "      <td>83847.000000</td>\n",
       "      <td>83847.000000</td>\n",
       "      <td>83847.000000</td>\n",
       "      <td>83847.000000</td>\n",
       "    </tr>\n",
       "    <tr>\n",
       "      <th>mean</th>\n",
       "      <td>2.963226e+07</td>\n",
       "      <td>4.918579e+10</td>\n",
       "      <td>40.727360</td>\n",
       "      <td>-73.948520</td>\n",
       "      <td>2012.486958</td>\n",
       "      <td>7.416843</td>\n",
       "      <td>32.258292</td>\n",
       "      <td>2019-06-11 03:20:55.214855680</td>\n",
       "      <td>1.376643</td>\n",
       "      <td>3.279449</td>\n",
       "      <td>7.033633</td>\n",
       "      <td>141.794531</td>\n",
       "    </tr>\n",
       "    <tr>\n",
       "      <th>min</th>\n",
       "      <td>1.001254e+06</td>\n",
       "      <td>1.236005e+08</td>\n",
       "      <td>40.504560</td>\n",
       "      <td>-74.249840</td>\n",
       "      <td>2003.000000</td>\n",
       "      <td>-365.000000</td>\n",
       "      <td>1.000000</td>\n",
       "      <td>2012-07-11 00:00:00</td>\n",
       "      <td>0.010000</td>\n",
       "      <td>1.000000</td>\n",
       "      <td>1.000000</td>\n",
       "      <td>-10.000000</td>\n",
       "    </tr>\n",
       "    <tr>\n",
       "      <th>25%</th>\n",
       "      <td>1.546801e+07</td>\n",
       "      <td>2.445331e+10</td>\n",
       "      <td>40.687660</td>\n",
       "      <td>-73.982120</td>\n",
       "      <td>2007.000000</td>\n",
       "      <td>2.000000</td>\n",
       "      <td>3.000000</td>\n",
       "      <td>2018-10-27 00:00:00</td>\n",
       "      <td>0.220000</td>\n",
       "      <td>2.000000</td>\n",
       "      <td>1.000000</td>\n",
       "      <td>6.000000</td>\n",
       "    </tr>\n",
       "    <tr>\n",
       "      <th>50%</th>\n",
       "      <td>3.085978e+07</td>\n",
       "      <td>4.902603e+10</td>\n",
       "      <td>40.721350</td>\n",
       "      <td>-73.953720</td>\n",
       "      <td>2012.000000</td>\n",
       "      <td>3.000000</td>\n",
       "      <td>11.000000</td>\n",
       "      <td>2019-06-13 00:00:00</td>\n",
       "      <td>0.740000</td>\n",
       "      <td>3.000000</td>\n",
       "      <td>1.000000</td>\n",
       "      <td>101.000000</td>\n",
       "    </tr>\n",
       "    <tr>\n",
       "      <th>75%</th>\n",
       "      <td>4.335474e+07</td>\n",
       "      <td>7.384634e+10</td>\n",
       "      <td>40.762615</td>\n",
       "      <td>-73.930830</td>\n",
       "      <td>2017.000000</td>\n",
       "      <td>5.000000</td>\n",
       "      <td>38.000000</td>\n",
       "      <td>2019-07-05 00:00:00</td>\n",
       "      <td>2.010000</td>\n",
       "      <td>4.000000</td>\n",
       "      <td>2.000000</td>\n",
       "      <td>266.000000</td>\n",
       "    </tr>\n",
       "    <tr>\n",
       "      <th>max</th>\n",
       "      <td>5.735803e+07</td>\n",
       "      <td>9.876313e+10</td>\n",
       "      <td>40.916970</td>\n",
       "      <td>-73.705220</td>\n",
       "      <td>2022.000000</td>\n",
       "      <td>5645.000000</td>\n",
       "      <td>1024.000000</td>\n",
       "      <td>2022-05-21 00:00:00</td>\n",
       "      <td>90.000000</td>\n",
       "      <td>5.000000</td>\n",
       "      <td>332.000000</td>\n",
       "      <td>3677.000000</td>\n",
       "    </tr>\n",
       "    <tr>\n",
       "      <th>std</th>\n",
       "      <td>1.622044e+07</td>\n",
       "      <td>2.853000e+10</td>\n",
       "      <td>0.056336</td>\n",
       "      <td>0.050332</td>\n",
       "      <td>5.761421</td>\n",
       "      <td>28.047214</td>\n",
       "      <td>51.908815</td>\n",
       "      <td>NaN</td>\n",
       "      <td>1.749147</td>\n",
       "      <td>1.283303</td>\n",
       "      <td>29.516813</td>\n",
       "      <td>133.906528</td>\n",
       "    </tr>\n",
       "  </tbody>\n",
       "</table>\n",
       "</div>"
      ],
      "text/plain": [
       "                 id       host id           lat          long  \\\n",
       "count  8.384700e+04  8.384700e+04  83847.000000  83847.000000   \n",
       "mean   2.963226e+07  4.918579e+10     40.727360    -73.948520   \n",
       "min    1.001254e+06  1.236005e+08     40.504560    -74.249840   \n",
       "25%    1.546801e+07  2.445331e+10     40.687660    -73.982120   \n",
       "50%    3.085978e+07  4.902603e+10     40.721350    -73.953720   \n",
       "75%    4.335474e+07  7.384634e+10     40.762615    -73.930830   \n",
       "max    5.735803e+07  9.876313e+10     40.916970    -73.705220   \n",
       "std    1.622044e+07  2.853000e+10      0.056336      0.050332   \n",
       "\n",
       "       Construction year  minimum nights  number of reviews  \\\n",
       "count       83847.000000    83847.000000       83847.000000   \n",
       "mean         2012.486958        7.416843          32.258292   \n",
       "min          2003.000000     -365.000000           1.000000   \n",
       "25%          2007.000000        2.000000           3.000000   \n",
       "50%          2012.000000        3.000000          11.000000   \n",
       "75%          2017.000000        5.000000          38.000000   \n",
       "max          2022.000000     5645.000000        1024.000000   \n",
       "std             5.761421       28.047214          51.908815   \n",
       "\n",
       "                         last review  reviews per month  review rate number  \\\n",
       "count                          83847       83847.000000        83847.000000   \n",
       "mean   2019-06-11 03:20:55.214855680           1.376643            3.279449   \n",
       "min              2012-07-11 00:00:00           0.010000            1.000000   \n",
       "25%              2018-10-27 00:00:00           0.220000            2.000000   \n",
       "50%              2019-06-13 00:00:00           0.740000            3.000000   \n",
       "75%              2019-07-05 00:00:00           2.010000            4.000000   \n",
       "max              2022-05-21 00:00:00          90.000000            5.000000   \n",
       "std                              NaN           1.749147            1.283303   \n",
       "\n",
       "       calculated host listings count  availability 365  \n",
       "count                    83847.000000      83847.000000  \n",
       "mean                         7.033633        141.794531  \n",
       "min                          1.000000        -10.000000  \n",
       "25%                          1.000000          6.000000  \n",
       "50%                          1.000000        101.000000  \n",
       "75%                          2.000000        266.000000  \n",
       "max                        332.000000       3677.000000  \n",
       "std                         29.516813        133.906528  "
      ]
     },
     "execution_count": 18,
     "metadata": {},
     "output_type": "execute_result"
    }
   ],
   "source": [
    "data.describe()"
   ]
  },
  {
   "cell_type": "markdown",
   "id": "e6ec0807",
   "metadata": {},
   "source": [
    "# DATA ANALYSIS :"
   ]
  },
  {
   "cell_type": "markdown",
   "id": "c5e25c0e",
   "metadata": {},
   "source": [
    "# What types to rooms are available in the neighbourhood ?"
   ]
  },
  {
   "cell_type": "code",
   "execution_count": 19,
   "id": "1bbab298",
   "metadata": {
    "scrolled": false
   },
   "outputs": [
    {
     "data": {
      "text/plain": [
       "room type\n",
       "Entire home/apt    44401\n",
       "Private room       37672\n",
       "Shared room         1663\n",
       "Hotel room           111\n",
       "Name: count, dtype: int64"
      ]
     },
     "execution_count": 19,
     "metadata": {},
     "output_type": "execute_result"
    }
   ],
   "source": [
    "data['room type'].value_counts(ascending=False)"
   ]
  },
  {
   "cell_type": "code",
   "execution_count": 20,
   "id": "5809bbd8",
   "metadata": {
    "scrolled": true
   },
   "outputs": [
    {
     "data": {
      "image/png": "[encoded data removed]",
      "text/plain": [
       "<Figure size 432x288 with 1 Axes>"
      ]
     },
     "metadata": {
      "needs_background": "light"
     },
     "output_type": "display_data"
    }
   ],
   "source": [
    "sns.set_theme(style=\"dark\")\n",
    "count = sns.countplot(x='room type',data=data, palette='ocean_r')\n",
    "for bars in count.containers:\n",
    "    count.bar_label(bars)\n",
    "plt.show()"
   ]
  },
  {
   "cell_type": "markdown",
   "id": "c503f8db",
   "metadata": {},
   "source": [
    " # What localities are rated highly by guests ?"
   ]
  },
  {
   "cell_type": "code",
   "execution_count": 21,
   "id": "2055f843",
   "metadata": {
    "scrolled": true
   },
   "outputs": [],
   "source": [
    "data3= data[data['review rate number']>=4]"
   ]
  },
  {
   "cell_type": "code",
   "execution_count": 22,
   "id": "823f66fd",
   "metadata": {},
   "outputs": [],
   "source": [
    "d=data3.filter(items=['neighbourhood group','neighbourhood','review rate number'])"
   ]
  },
  {
   "cell_type": "code",
   "execution_count": 23,
   "id": "165b5ec2",
   "metadata": {
    "scrolled": false
   },
   "outputs": [
    {
     "data": {
      "image/png": "[encoded data removed]",
      "text/plain": [
       "<Figure size 432x288 with 1 Axes>"
      ]
     },
     "metadata": {
      "needs_background": "light"
     },
     "output_type": "display_data"
    }
   ],
   "source": [
    "count = d['neighbourhood'].value_counts(ascending=False)[:10].plot(kind='bar',color='c')\n",
    "for bars in count.containers:\n",
    "    count.bar_label(bars)\n",
    "plt.show()"
   ]
  },
  {
   "cell_type": "markdown",
   "id": "d01b937c",
   "metadata": {},
   "source": [
    "                            \n",
    "#  Average high availability in different neighbourhood groups"
   ]
  },
  {
   "cell_type": "code",
   "execution_count": 24,
   "id": "657bf5d5",
   "metadata": {
    "scrolled": true
   },
   "outputs": [
    {
     "data": {
      "text/html": [
       "<div>\n",
       "<style scoped>\n",
       "    .dataframe tbody tr th:only-of-type {\n",
       "        vertical-align: middle;\n",
       "    }\n",
       "\n",
       "    .dataframe tbody tr th {\n",
       "        vertical-align: top;\n",
       "    }\n",
       "\n",
       "    .dataframe thead th {\n",
       "        text-align: right;\n",
       "    }\n",
       "</style>\n",
       "<table border=\"1\" class=\"dataframe\">\n",
       "  <thead>\n",
       "    <tr style=\"text-align: right;\">\n",
       "      <th></th>\n",
       "      <th>availability 365</th>\n",
       "    </tr>\n",
       "    <tr>\n",
       "      <th>neighbourhood group</th>\n",
       "      <th></th>\n",
       "    </tr>\n",
       "  </thead>\n",
       "  <tbody>\n",
       "    <tr>\n",
       "      <th>Staten Island</th>\n",
       "      <td>201.138518</td>\n",
       "    </tr>\n",
       "    <tr>\n",
       "      <th>Bronx</th>\n",
       "      <td>183.065703</td>\n",
       "    </tr>\n",
       "    <tr>\n",
       "      <th>Queens</th>\n",
       "      <td>166.357609</td>\n",
       "    </tr>\n",
       "    <tr>\n",
       "      <th>Manhattan</th>\n",
       "      <td>139.113774</td>\n",
       "    </tr>\n",
       "    <tr>\n",
       "      <th>Brooklyn</th>\n",
       "      <td>132.472789</td>\n",
       "    </tr>\n",
       "  </tbody>\n",
       "</table>\n",
       "</div>"
      ],
      "text/plain": [
       "                     availability 365\n",
       "neighbourhood group                  \n",
       "Staten Island              201.138518\n",
       "Bronx                      183.065703\n",
       "Queens                     166.357609\n",
       "Manhattan                  139.113774\n",
       "Brooklyn                   132.472789"
      ]
     },
     "execution_count": 24,
     "metadata": {},
     "output_type": "execute_result"
    }
   ],
   "source": [
    "var = data.filter(items=['availability 365','neighbourhood group']).groupby('neighbourhood group').mean().sort_values(by='availability 365',ascending=False)\n",
    "var"
   ]
  },
  {
   "cell_type": "code",
   "execution_count": 25,
   "id": "4ed55b86",
   "metadata": {},
   "outputs": [
    {
     "data": {
      "image/png": "[encoded data removed]",
      "text/plain": [
       "<Figure size 432x288 with 1 Axes>"
      ]
     },
     "metadata": {
      "needs_background": "light"
     },
     "output_type": "display_data"
    }
   ],
   "source": [
    "count = var.plot(kind='bar',color='c')\n",
    "for bars in count.containers:\n",
    "    count.bar_label(bars)\n",
    "plt.show()"
   ]
  },
  {
   "cell_type": "markdown",
   "id": "655a94ef",
   "metadata": {},
   "source": [
    " # neighbourhood group with varified host identity"
   ]
  },
  {
   "cell_type": "code",
   "execution_count": 26,
   "id": "e8b9f751",
   "metadata": {
    "scrolled": true
   },
   "outputs": [
    {
     "data": {
      "text/plain": [
       "neighbourhood group\n",
       "Manhattan        17417\n",
       "Brooklyn         17352\n",
       "Queens            5594\n",
       "Bronx             1118\n",
       "Staten Island      401\n",
       "Name: count, dtype: int64"
      ]
     },
     "execution_count": 26,
     "metadata": {},
     "output_type": "execute_result"
    }
   ],
   "source": [
    "varified=data[data['host_identity_verified'].str.contains('verified')]\n",
    "place=varified['neighbourhood group'].value_counts()\n",
    "place"
   ]
  },
  {
   "cell_type": "code",
   "execution_count": 27,
   "id": "b58ec613",
   "metadata": {},
   "outputs": [
    {
     "data": {
      "image/png": "[encoded data removed]",
      "text/plain": [
       "<Figure size 432x288 with 1 Axes>"
      ]
     },
     "metadata": {
      "needs_background": "light"
     },
     "output_type": "display_data"
    }
   ],
   "source": [
    "count = sns.countplot(x='neighbourhood group',data=varified,palette='ocean_r')\n",
    "for bars in count.containers:\n",
    "    count.bar_label(bars)\n",
    "plt.show()"
   ]
  },
  {
   "cell_type": "markdown",
   "id": "8d6de6d3",
   "metadata": {},
   "source": [
    "# Total count of neighbourhood group"
   ]
  },
  {
   "cell_type": "code",
   "execution_count": 28,
   "id": "b5a4ac14",
   "metadata": {
    "scrolled": true
   },
   "outputs": [
    {
     "data": {
      "text/plain": [
       "neighbourhood group\n",
       "Brooklyn         34802\n",
       "Manhattan        34762\n",
       "Queens           11177\n",
       "Bronx             2283\n",
       "Staten Island      823\n",
       "Name: count, dtype: int64"
      ]
     },
     "execution_count": 28,
     "metadata": {},
     "output_type": "execute_result"
    }
   ],
   "source": [
    "var=data['neighbourhood group'].value_counts(ascending=False)\n",
    "var"
   ]
  },
  {
   "cell_type": "markdown",
   "id": "27cb4019",
   "metadata": {},
   "source": [
    "# Host identity varification status"
   ]
  },
  {
   "cell_type": "code",
   "execution_count": 29,
   "id": "c2fa0425",
   "metadata": {
    "scrolled": false
   },
   "outputs": [
    {
     "data": {
      "text/plain": [
       "host_identity_verified\n",
       "unconfirmed    41965\n",
       "verified       41882\n",
       "Name: count, dtype: int64"
      ]
     },
     "execution_count": 29,
     "metadata": {},
     "output_type": "execute_result"
    }
   ],
   "source": [
    "host_indentity=data['host_identity_verified'].value_counts(ascending=False)\n",
    "host_indentity"
   ]
  },
  {
   "cell_type": "code",
   "execution_count": 30,
   "id": "45c1b821",
   "metadata": {},
   "outputs": [
    {
     "data": {
      "image/png": "[encoded data removed]",
      "text/plain": [
       "<Figure size 432x288 with 1 Axes>"
      ]
     },
     "metadata": {},
     "output_type": "display_data"
    }
   ],
   "source": [
    "plt.pie(host_indentity,labels=host_indentity.index,autopct='%1.2f%%')\n",
    "plt.show()"
   ]
  },
  {
   "cell_type": "markdown",
   "id": "fda9305c",
   "metadata": {},
   "source": [
    "# instant_bookable"
   ]
  },
  {
   "cell_type": "code",
   "execution_count": 31,
   "id": "d8276953",
   "metadata": {
    "scrolled": true
   },
   "outputs": [],
   "source": [
    "var=data['instant_bookable'].value_counts(ascending=False)"
   ]
  },
  {
   "cell_type": "code",
   "execution_count": 32,
   "id": "7959fb7e",
   "metadata": {
    "scrolled": false
   },
   "outputs": [
    {
     "data": {
      "image/png": "[encoded data removed]",
      "text/plain": [
       "<Figure size 432x288 with 1 Axes>"
      ]
     },
     "metadata": {},
     "output_type": "display_data"
    }
   ],
   "source": [
    "plt.pie(var,labels=var.index,autopct='%1.2f%%')\n",
    "plt.show()"
   ]
  },
  {
   "cell_type": "code",
   "execution_count": 33,
   "id": "fed5690a",
   "metadata": {},
   "outputs": [
    {
     "data": {
      "image/png": "[encoded data removed]",
      "text/plain": [
       "<Figure size 432x288 with 1 Axes>"
      ]
     },
     "metadata": {
      "needs_background": "light"
     },
     "output_type": "display_data"
    }
   ],
   "source": [
    "count = sns.countplot(x=\"neighbourhood group\",hue=\"instant_bookable\",data=data,palette='ocean_r')\n",
    "for bars in count.containers:\n",
    "    count.bar_label(bars)\n",
    "plt.show()"
   ]
  },
  {
   "cell_type": "markdown",
   "id": "c7e15189",
   "metadata": {},
   "source": [
    "# which type of rooms are choosen by customers in different neighbourhood groups ?"
   ]
  },
  {
   "cell_type": "code",
   "execution_count": 34,
   "id": "a2f5cc14",
   "metadata": {
    "scrolled": true
   },
   "outputs": [
    {
     "data": {
      "image/png": "[encoded data removed]",
      "text/plain": [
       "<Figure size 432x288 with 1 Axes>"
      ]
     },
     "metadata": {
      "needs_background": "light"
     },
     "output_type": "display_data"
    }
   ],
   "source": [
    "count = sns.countplot(x=\"neighbourhood group\",hue=\"room type\",data=data,palette='ocean_r')\n",
    "for bars in count.containers:\n",
    "    count.bar_label(bars)\n",
    "plt.show()"
   ]
  },
  {
   "cell_type": "markdown",
   "id": "3921be0b",
   "metadata": {},
   "source": [
    "# what kind of cancellation policies are there ?"
   ]
  },
  {
   "cell_type": "code",
   "execution_count": 35,
   "id": "218a29e3",
   "metadata": {},
   "outputs": [
    {
     "data": {
      "text/plain": [
       "cancellation_policy\n",
       "moderate    28100\n",
       "strict      27913\n",
       "flexible    27834\n",
       "Name: count, dtype: int64"
      ]
     },
     "execution_count": 35,
     "metadata": {},
     "output_type": "execute_result"
    }
   ],
   "source": [
    "cancellation_policy=data['cancellation_policy'].value_counts(ascending=False)\n",
    "cancellation_policy"
   ]
  },
  {
   "cell_type": "code",
   "execution_count": 36,
   "id": "243e665d",
   "metadata": {
    "scrolled": false
   },
   "outputs": [
    {
     "data": {
      "image/png": "[encoded data removed]",
      "text/plain": [
       "<Figure size 432x288 with 1 Axes>"
      ]
     },
     "metadata": {},
     "output_type": "display_data"
    }
   ],
   "source": [
    "plt.pie(cancellation_policy,labels=cancellation_policy.index,autopct='%1.2f%%')\n",
    "plt.show()"
   ]
  },
  {
   "cell_type": "markdown",
   "id": "af9ddc7f",
   "metadata": {},
   "source": [
    "# How many places are constructed in 2006-2022 ?"
   ]
  },
  {
   "cell_type": "code",
   "execution_count": 37,
   "id": "a9edd948",
   "metadata": {
    "scrolled": false
   },
   "outputs": [
    {
     "data": {
      "text/plain": [
       "Construction year\n",
       "2006.0    4317\n",
       "2008.0    4299\n",
       "2014.0    4279\n",
       "2019.0    4276\n",
       "2015.0    4237\n",
       "2010.0    4215\n",
       "2005.0    4201\n",
       "2017.0    4192\n",
       "2009.0    4185\n",
       "2003.0    4185\n",
       "2012.0    4181\n",
       "2011.0    4181\n",
       "2020.0    4175\n",
       "2018.0    4171\n",
       "2007.0    4167\n",
       "2022.0    4151\n",
       "2021.0    4140\n",
       "2016.0    4137\n",
       "2004.0    4118\n",
       "2013.0    4040\n",
       "Name: count, dtype: int64"
      ]
     },
     "execution_count": 37,
     "metadata": {},
     "output_type": "execute_result"
    }
   ],
   "source": [
    "var=data['Construction year'].value_counts(ascending=False)\n",
    "var"
   ]
  },
  {
   "cell_type": "code",
   "execution_count": 38,
   "id": "65da1c16",
   "metadata": {
    "scrolled": true
   },
   "outputs": [
    {
     "data": {
      "image/png": "[encoded data removed]",
      "text/plain": [
       "<Figure size 1440x360 with 1 Axes>"
      ]
     },
     "metadata": {
      "needs_background": "light"
     },
     "output_type": "display_data"
    }
   ],
   "source": [
    "plt.figure(figsize=(20,5))\n",
    "count = sns.countplot(x='Construction year',data=data,color='c')\n",
    "for bars in count.containers:\n",
    "    count.bar_label(bars)\n",
    "plt.show()"
   ]
  },
  {
   "cell_type": "markdown",
   "id": "17f249bb",
   "metadata": {},
   "source": [
    "# neighbourhood groups with highest number of review"
   ]
  },
  {
   "cell_type": "code",
   "execution_count": 39,
   "id": "cbc3076e",
   "metadata": {
    "scrolled": false
   },
   "outputs": [
    {
     "data": {
      "text/html": [
       "<div>\n",
       "<style scoped>\n",
       "    .dataframe tbody tr th:only-of-type {\n",
       "        vertical-align: middle;\n",
       "    }\n",
       "\n",
       "    .dataframe tbody tr th {\n",
       "        vertical-align: top;\n",
       "    }\n",
       "\n",
       "    .dataframe thead th {\n",
       "        text-align: right;\n",
       "    }\n",
       "</style>\n",
       "<table border=\"1\" class=\"dataframe\">\n",
       "  <thead>\n",
       "    <tr style=\"text-align: right;\">\n",
       "      <th></th>\n",
       "      <th>number of reviews</th>\n",
       "    </tr>\n",
       "    <tr>\n",
       "      <th>neighbourhood group</th>\n",
       "      <th></th>\n",
       "    </tr>\n",
       "  </thead>\n",
       "  <tbody>\n",
       "    <tr>\n",
       "      <th>Manhattan</th>\n",
       "      <td>93411.0</td>\n",
       "    </tr>\n",
       "    <tr>\n",
       "      <th>Brooklyn</th>\n",
       "      <td>83679.0</td>\n",
       "    </tr>\n",
       "    <tr>\n",
       "      <th>Queens</th>\n",
       "      <td>71236.0</td>\n",
       "    </tr>\n",
       "    <tr>\n",
       "      <th>Bronx</th>\n",
       "      <td>5476.0</td>\n",
       "    </tr>\n",
       "    <tr>\n",
       "      <th>Staten Island</th>\n",
       "      <td>949.0</td>\n",
       "    </tr>\n",
       "  </tbody>\n",
       "</table>\n",
       "</div>"
      ],
      "text/plain": [
       "                     number of reviews\n",
       "neighbourhood group                   \n",
       "Manhattan                      93411.0\n",
       "Brooklyn                       83679.0\n",
       "Queens                         71236.0\n",
       "Bronx                           5476.0\n",
       "Staten Island                    949.0"
      ]
     },
     "execution_count": 39,
     "metadata": {},
     "output_type": "execute_result"
    }
   ],
   "source": [
    "review=data[data['number of reviews']>=250]\n",
    "highest_review=review.filter(items=['number of reviews','neighbourhood group']).groupby('neighbourhood group').sum().sort_values(by='number of reviews',ascending=False)\n",
    "highest_review"
   ]
  },
  {
   "cell_type": "code",
   "execution_count": 40,
   "id": "df7dffb3",
   "metadata": {
    "scrolled": true
   },
   "outputs": [
    {
     "data": {
      "image/png": "[encoded data removed]",
      "text/plain": [
       "<Figure size 432x288 with 1 Axes>"
      ]
     },
     "metadata": {
      "needs_background": "light"
     },
     "output_type": "display_data"
    }
   ],
   "source": [
    "count = highest_review.plot(kind='bar',color='c')\n",
    "for bars in count.containers:\n",
    "    count.bar_label(bars)\n",
    "plt.show()"
   ]
  },
  {
   "cell_type": "markdown",
   "id": "6c20847c",
   "metadata": {},
   "source": [
    "# Top 10 places with highest reviews:"
   ]
  },
  {
   "cell_type": "code",
   "execution_count": 41,
   "id": "eed9e73f",
   "metadata": {
    "scrolled": true
   },
   "outputs": [
    {
     "data": {
      "text/html": [
       "<div>\n",
       "<style scoped>\n",
       "    .dataframe tbody tr th:only-of-type {\n",
       "        vertical-align: middle;\n",
       "    }\n",
       "\n",
       "    .dataframe tbody tr th {\n",
       "        vertical-align: top;\n",
       "    }\n",
       "\n",
       "    .dataframe thead th {\n",
       "        text-align: right;\n",
       "    }\n",
       "</style>\n",
       "<table border=\"1\" class=\"dataframe\">\n",
       "  <thead>\n",
       "    <tr style=\"text-align: right;\">\n",
       "      <th></th>\n",
       "      <th>number of reviews</th>\n",
       "    </tr>\n",
       "    <tr>\n",
       "      <th>NAME</th>\n",
       "      <th></th>\n",
       "    </tr>\n",
       "  </thead>\n",
       "  <tbody>\n",
       "    <tr>\n",
       "      <th>Sonder Battery Park | Studio Apartment</th>\n",
       "      <td>1024.0</td>\n",
       "    </tr>\n",
       "    <tr>\n",
       "      <th>City King</th>\n",
       "      <td>1010.0</td>\n",
       "    </tr>\n",
       "    <tr>\n",
       "      <th>Amazing Micro Unit W/ communal rooftop and kitchen</th>\n",
       "      <td>966.0</td>\n",
       "    </tr>\n",
       "    <tr>\n",
       "      <th>Enjoy great views of the City!</th>\n",
       "      <td>884.0</td>\n",
       "    </tr>\n",
       "    <tr>\n",
       "      <th>Come catch a Broadway Show &amp; stay in Times Square</th>\n",
       "      <td>849.0</td>\n",
       "    </tr>\n",
       "    <tr>\n",
       "      <th>Hudson River View King Bed at Higher Floor</th>\n",
       "      <td>797.0</td>\n",
       "    </tr>\n",
       "    <tr>\n",
       "      <th>Beautiful Standard Full Room at The Ridge</th>\n",
       "      <td>776.0</td>\n",
       "    </tr>\n",
       "    <tr>\n",
       "      <th>King Room City</th>\n",
       "      <td>738.0</td>\n",
       "    </tr>\n",
       "    <tr>\n",
       "      <th>THE PRIVACY DEN ~ 5 MINUTES TO JFK</th>\n",
       "      <td>698.0</td>\n",
       "    </tr>\n",
       "    <tr>\n",
       "      <th>Entire New Apartment in Park Slope / Gowanus</th>\n",
       "      <td>679.0</td>\n",
       "    </tr>\n",
       "  </tbody>\n",
       "</table>\n",
       "</div>"
      ],
      "text/plain": [
       "                                                    number of reviews\n",
       "NAME                                                                 \n",
       "Sonder Battery Park | Studio Apartment                         1024.0\n",
       "City King                                                      1010.0\n",
       "Amazing Micro Unit W/ communal rooftop and kitchen              966.0\n",
       "Enjoy great views of the City!                                  884.0\n",
       "Come catch a Broadway Show & stay in Times Square               849.0\n",
       "Hudson River View King Bed at Higher Floor                      797.0\n",
       "Beautiful Standard Full Room at The Ridge                       776.0\n",
       "King Room City                                                  738.0\n",
       "THE PRIVACY DEN ~ 5 MINUTES TO JFK                              698.0\n",
       "Entire New Apartment in Park Slope / Gowanus                    679.0"
      ]
     },
     "execution_count": 41,
     "metadata": {},
     "output_type": "execute_result"
    }
   ],
   "source": [
    "var=data[data['number of reviews']>=500].sort_values(by='number of reviews',ascending=False)\n",
    "place=var.filter(items=['NAME','number of reviews'])[:10].set_index('NAME')\n",
    "place"
   ]
  },
  {
   "cell_type": "code",
   "execution_count": 42,
   "id": "aa7d7428",
   "metadata": {
    "scrolled": false
   },
   "outputs": [
    {
     "data": {
      "image/png": "[encoded data removed]",
      "text/plain": [
       "<Figure size 432x288 with 1 Axes>"
      ]
     },
     "metadata": {
      "needs_background": "light"
     },
     "output_type": "display_data"
    }
   ],
   "source": [
    "count = place.plot(kind='bar',color='c')\n",
    "for bars in count.containers:\n",
    "    count.bar_label(bars)\n",
    "plt.show()"
   ]
  },
  {
   "cell_type": "markdown",
   "id": "9d814312",
   "metadata": {},
   "source": [
    "# Average price wrt to neighbourhood groups ?"
   ]
  },
  {
   "cell_type": "code",
   "execution_count": 43,
   "id": "7ac76a31",
   "metadata": {},
   "outputs": [],
   "source": [
    "data['price']=data['price'].astype(int)\n",
    "data['service fee']=data['service fee'].astype(int)"
   ]
  },
  {
   "cell_type": "code",
   "execution_count": 44,
   "id": "f881a833",
   "metadata": {},
   "outputs": [
    {
     "data": {
      "text/html": [
       "<div>\n",
       "<style scoped>\n",
       "    .dataframe tbody tr th:only-of-type {\n",
       "        vertical-align: middle;\n",
       "    }\n",
       "\n",
       "    .dataframe tbody tr th {\n",
       "        vertical-align: top;\n",
       "    }\n",
       "\n",
       "    .dataframe thead th {\n",
       "        text-align: right;\n",
       "    }\n",
       "</style>\n",
       "<table border=\"1\" class=\"dataframe\">\n",
       "  <thead>\n",
       "    <tr style=\"text-align: right;\">\n",
       "      <th></th>\n",
       "      <th>price</th>\n",
       "    </tr>\n",
       "    <tr>\n",
       "      <th>neighbourhood group</th>\n",
       "      <th></th>\n",
       "    </tr>\n",
       "  </thead>\n",
       "  <tbody>\n",
       "    <tr>\n",
       "      <th>Queens</th>\n",
       "      <td>630.577436</td>\n",
       "    </tr>\n",
       "    <tr>\n",
       "      <th>Bronx</th>\n",
       "      <td>630.267630</td>\n",
       "    </tr>\n",
       "    <tr>\n",
       "      <th>Brooklyn</th>\n",
       "      <td>627.188409</td>\n",
       "    </tr>\n",
       "    <tr>\n",
       "      <th>Manhattan</th>\n",
       "      <td>623.395432</td>\n",
       "    </tr>\n",
       "    <tr>\n",
       "      <th>Staten Island</th>\n",
       "      <td>621.641555</td>\n",
       "    </tr>\n",
       "  </tbody>\n",
       "</table>\n",
       "</div>"
      ],
      "text/plain": [
       "                          price\n",
       "neighbourhood group            \n",
       "Queens               630.577436\n",
       "Bronx                630.267630\n",
       "Brooklyn             627.188409\n",
       "Manhattan            623.395432\n",
       "Staten Island        621.641555"
      ]
     },
     "execution_count": 44,
     "metadata": {},
     "output_type": "execute_result"
    }
   ],
   "source": [
    "price=data.filter(items=['price','neighbourhood group']).groupby('neighbourhood group').mean().sort_values(by='price',ascending=False)\n",
    "price"
   ]
  },
  {
   "cell_type": "code",
   "execution_count": 45,
   "id": "1f9cc5b2",
   "metadata": {
    "scrolled": true
   },
   "outputs": [
    {
     "data": {
      "image/png": "[encoded data removed]",
      "text/plain": [
       "<Figure size 432x288 with 1 Axes>"
      ]
     },
     "metadata": {
      "needs_background": "light"
     },
     "output_type": "display_data"
    }
   ],
   "source": [
    "price.plot(kind='line',color='c')\n",
    "plt.ylabel('Average price')\n",
    "plt.show()"
   ]
  },
  {
   "cell_type": "code",
   "execution_count": 47,
   "id": "211daead",
   "metadata": {},
   "outputs": [
    {
     "data": {
      "text/plain": [
       "id                                         int64\n",
       "NAME                                      object\n",
       "host id                                    int64\n",
       "host_identity_verified                    object\n",
       "host name                                 object\n",
       "neighbourhood group                       object\n",
       "neighbourhood                             object\n",
       "lat                                      float64\n",
       "long                                     float64\n",
       "instant_bookable                          object\n",
       "cancellation_policy                       object\n",
       "room type                                 object\n",
       "Construction year                        float64\n",
       "price                                      int32\n",
       "service fee                                int32\n",
       "minimum nights                           float64\n",
       "number of reviews                        float64\n",
       "last review                       datetime64[ns]\n",
       "reviews per month                        float64\n",
       "review rate number                       float64\n",
       "calculated host listings count           float64\n",
       "availability 365                         float64\n",
       "dtype: object"
      ]
     },
     "execution_count": 47,
     "metadata": {},
     "output_type": "execute_result"
    }
   ],
   "source": [
    "data.dtypes"
   ]
  },
  {
   "cell_type": "code",
   "execution_count": 51,
   "id": "94d86197",
   "metadata": {},
   "outputs": [],
   "source": []
  },
  {
   "cell_type": "code",
   "execution_count": null,
   "id": "f9a5c32f",
   "metadata": {},
   "outputs": [],
   "source": []
  },
  {
   "cell_type": "code",
   "execution_count": null,
   "id": "9f8ab654",
   "metadata": {},
   "outputs": [],
   "source": []
  },
  {
   "cell_type": "markdown",
   "id": "2b1f890f",
   "metadata": {},
   "source": [
    "# Conclusion :"
   ]
  },
  {
   "cell_type": "markdown",
   "id": "85462ac5",
   "metadata": {},
   "source": [
    "* most of the people prefer entire home/apt. room in brooklyn and manhattan.\n",
    "* The availability is highest in staten island. \n",
    "* 49.95% of hosts are varified. 49.76% of the air bnbs are instantly bookable.\n",
    "* In 2006 the construction was highest. Number of reviews are high in manhattan and brooklyn respectively.\n",
    "* The number of air bnbs are high in brooklyn and manhattan.\n",
    "* The Average pricing in brooklyn and manhattan is less then most of the other neighbourhood groups.\n"
   ]
  }
 ],
 "metadata": {
  "kernelspec": {
   "display_name": "Python 3 (ipykernel)",
   "language": "python",
   "name": "python3"
  },
  "language_info": {
   "codemirror_mode": {
    "name": "ipython",
    "version": 3
   },
   "file_extension": ".py",
   "mimetype": "text/x-python",
   "name": "python",
   "nbconvert_exporter": "python",
   "pygments_lexer": "ipython3",
   "version": "3.9.12"
  }
 },
 "nbformat": 4,
 "nbformat_minor": 5
}
